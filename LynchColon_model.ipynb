{
 "cells": [
  {
   "cell_type": "code",
   "execution_count": 1,
   "id": "f3e0db49",
   "metadata": {},
   "outputs": [],
   "source": [
    "import copy\n",
    "import random as rnd\n",
    "import math\n",
    "import numpy as np\n",
    "import matplotlib.pyplot as plt\n",
    "plt.style.use('seaborn-poster')\n",
    "plt.rcParams['figure.figsize'] = [10, 5] # this makes a nicer figure size, you can play around with the numbers"
   ]
  },
  {
   "cell_type": "markdown",
   "id": "fd9648fb",
   "metadata": {},
   "source": [
    "# A model of two types of cells in the human colon\n",
    "\n",
    "This model aims to capture the dynamics of mismatch repair (MMR) deficient crypts/cells appearing in the healthy colon of Lynch syndrome individuals. In Lynch syndrome, due to an inherited mutation in an MMR gene, complete loss of MMR only requires a single hit and therefore this is a way more likely event than in other individuals. Here we study what are the dynamics of MMRd (mutant) crypts/cells and their expected proportion in the colon.\n",
    "\n",
    "We have two types of cells that we want to model\n",
    "- Proficient/Normal colon cells that populate the colon\n",
    "- Deficient cells which arise from normal cells occasionally mutating and have different properties\n",
    "\n",
    "\n",
    "The reactions/interactions these have\n",
    "- Proficient/Normal cells divide to produce two offspring\n",
    "    - Each new offspring has some chance of becoming a deficient cell\n",
    "    - So overall we might end up with 0, 1, or 2 deficient cells after a division\n",
    "- Deficient cells divide to (always) produce two deficient offspring\n",
    "- Normal cells die\n",
    "- Deficient cells die\n",
    "\n",
    "The corresponding parameters are\n",
    "- Division rate of cells (we can assume both types divide at the same rate)\n",
    "- Rate/probability of an offspring of a proficient cell mutating into a deficient cell\n",
    "- Death rate of normal cells\n",
    "- Death rate of deficient cells (supposed to be higher than normal death rate, since these are deficient)\n",
    "    - This death rate is defined as the normal death rate plus extra death rate arising from selection against these cells, where the strength of selection is defined by the selection coefficient, **s**\n"
   ]
  },
  {
   "cell_type": "code",
   "execution_count": 2,
   "id": "a95bf0db",
   "metadata": {},
   "outputs": [],
   "source": [
    "def model_deficientColon(pop, params):\n",
    "#\n",
    "    return(np.array([dP, dD]))"
   ]
  },
  {
   "cell_type": "markdown",
   "id": "f32325f1",
   "metadata": {},
   "source": [
    "### Defining parameter values and simulating the model numerically\n",
    "We again will use numerical simulations to look at the dynamics of the model. But first we need to define parameters of the simulation and the model.  "
   ]
  },
  {
   "cell_type": "code",
   "execution_count": 9,
   "id": "752dfd05",
   "metadata": {},
   "outputs": [],
   "source": [
    "t = 0\n",
    "tMax = 300\n",
    "starting_population = np.array([2000,0])\n",
    "dt = 1 # simulation parameter of how big time-steps we are taking"
   ]
  },
  {
   "cell_type": "code",
   "execution_count": 10,
   "id": "227bd57a",
   "metadata": {},
   "outputs": [],
   "source": [
    "# Compute parameter values\n",
    "b = 0.2 #division/birth rate of cells\n",
    "\n",
    "p_d = 0.005 #probability of normal cell mutating into deficient cell\n",
    "s = -0.8 #selection coefficient: negative value means selection against cells\n",
    "\n",
    "d0 = 0.2 #normal death rate (we might need to adjust this to achieve constant population)\n",
    "d_d = d0 - 0.2*s #death rate of deficient cells, defined based on normal death rate and selection cofficient\n",
    "\n",
    "parameters = [b, p_d, d0, d_d]"
   ]
  },
  {
   "cell_type": "code",
   "execution_count": null,
   "id": "54117805",
   "metadata": {},
   "outputs": [],
   "source": [
    "time = np.arange(t, tMax, dt) # all the time-values we are evaluating, from 0 to tMax, by steps of dt\n",
    "population = starting_population\n",
    "pop_over_time = np.array(population)\n",
    "\n",
    "for i in range(len(time)-1):\n",
    "    delta_population = model_deficientColon(population, parameters) * dt\n",
    "    population = population + delta_population\n",
    "    pop_over_time = np.vstack((pop_over_time, population))"
   ]
  },
  {
   "cell_type": "code",
   "execution_count": null,
   "id": "21bdd3de",
   "metadata": {},
   "outputs": [],
   "source": [
    "# Plot the number of cells in each cell type over time: time is on the x axis and number of cells is on the y\n",
    "plt.plot(time, pop_over_time)\n",
    "\n",
    "# And print the proportion of cell types at the final time-point\n",
    "print('Proportion of deficient cells at time ',tMax, ' is:', pop_over_time[-1,1]/(pop_over_time[-1,0]+pop_over_time[-1,1]))\n"
   ]
  }
 ],
 "metadata": {
  "kernelspec": {
   "display_name": "Python 3 (ipykernel)",
   "language": "python",
   "name": "python3"
  },
  "language_info": {
   "codemirror_mode": {
    "name": "ipython",
    "version": 3
   },
   "file_extension": ".py",
   "mimetype": "text/x-python",
   "name": "python",
   "nbconvert_exporter": "python",
   "pygments_lexer": "ipython3",
   "version": "3.8.9"
  }
 },
 "nbformat": 4,
 "nbformat_minor": 5
}

{
 "cells": [
  {
   "cell_type": "code",
   "execution_count": 2,
   "metadata": {},
   "outputs": [],
   "source": [
    "import random as rnd\n",
    "import numpy as np\n",
    "import matplotlib.pyplot as plt\n",
    "from math import exp"
   ]
  },
  {
   "cell_type": "markdown",
   "metadata": {},
   "source": [
    "# A model of population growth\n",
    "\n",
    "For a nice explanation and visuals, see [this blogpost](https://www.pathsense.eu/simple-introduction-mathematical-modelling-biology/)\n",
    "\n",
    "There is one species/cell-type/quantity modelled, and there are two possible interactions that can happpen:\n",
    "- birth (or production/division)\n",
    "- death (or degradation/elimination)\n",
    "\n",
    "Therefore there are two parameters that describe the dynamics completely:\n",
    "- rate of birth\n",
    "- rate of death"
   ]
  },
  {
   "cell_type": "code",
   "execution_count": 3,
   "metadata": {},
   "outputs": [],
   "source": [
    "def model_growth_birthDeath(pop, params):\n",
    "    dX = params[0]*pop - params[1]*pop # change comes from birth and death\n",
    "    return(dX)"
   ]
  },
  {
   "cell_type": "markdown",
   "metadata": {},
   "source": [
    "We could simplify the equation for dX as  \n",
    "*dX = (params0 - params1)*pop*\n",
    "\n",
    "Which highlights that what is actually important is not birth and death rate separately, but their difference that tells us by how much the population grows (or shrinks, if it is a negative number) once accounting for birth and death both.\n",
    "\n",
    "So we can write a simpler model with just one parameter that stands for the **net birth rate**:"
   ]
  },
  {
   "cell_type": "code",
   "execution_count": 4,
   "metadata": {},
   "outputs": [],
   "source": [
    "def model_growth(pop, params):\n",
    "    dX = params[0]*pop # overall change is net birth rate, a combination of birth and death\n",
    "    return(dX)"
   ]
  },
  {
   "cell_type": "markdown",
   "metadata": {},
   "source": [
    "## Simulating the model numerically\n",
    "\n",
    "We will use numerical simulation to estimate how the population types changes over time. We will use the simplest method of solving differential equations, where we always take steps of **dt** time ahead and constantly update the population. (Note in this case, we could easily solve the differential equation too, but that is often not the case, so it is useful to take a more flexible approach that is applicable to more cases.)\n",
    "\n",
    "### First, take a few simulation steps separately\n",
    "\n",
    "We will use the values from [here](https://www.pathsense.eu/simple-introduction-mathematical-modelling-biology/), which describe how the population of Europe changes. The starting value is the population in 2015 and the net birth rate is the estimated population increase (0.35%). Since the rate is given in years, our time unit will be years too, therefore the time-step of 0.01 means 0.01 year ~ 3.5 days."
   ]
  },
  {
   "cell_type": "code",
   "execution_count": 5,
   "metadata": {},
   "outputs": [],
   "source": [
    "# Define the starting point (typically time=0) and parameters\n",
    "t = 0\n",
    "starting_population = 508191116\n",
    "\n",
    "parameters = [0.0035]\n",
    "dt = 0.01 # simulation parameter of how big time-steps we are taking"
   ]
  },
  {
   "cell_type": "code",
   "execution_count": 6,
   "metadata": {},
   "outputs": [
    {
     "name": "stdout",
     "output_type": "stream",
     "text": [
      "Change in population after dt: 17786.68906\n",
      "New population size 508208902.68906\n"
     ]
    }
   ],
   "source": [
    "# First, take a single step of the simulation: compute the change in population in dt and update the population\n",
    "\n",
    "delta_population = model_growth(starting_population, parameters) * dt\n",
    "print('Change in population after dt:',delta_population)\n",
    "population = starting_population + delta_population\n",
    "print('New population size', population)"
   ]
  },
  {
   "cell_type": "code",
   "execution_count": 7,
   "metadata": {},
   "outputs": [
    {
     "name": "stdout",
     "output_type": "stream",
     "text": [
      "New population after two steps: 508226690.0006541\n"
     ]
    }
   ],
   "source": [
    "# Now, let's take two steps, note that in the second step, we use the previously updated population values\n",
    "delta_population = model_growth(starting_population, parameters) * dt\n",
    "next_population = starting_population + delta_population\n",
    "\n",
    "delta_population = model_growth(next_population, parameters) * dt\n",
    "population = next_population + delta_population\n",
    "print('New population after two steps:', population)\n"
   ]
  },
  {
   "cell_type": "code",
   "execution_count": 8,
   "metadata": {},
   "outputs": [
    {
     "name": "stdout",
     "output_type": "stream",
     "text": [
      "New population after one larger step: 508226689.37812\n"
     ]
    }
   ],
   "source": [
    "# We can compare this to taking \"two steps in one\", as if dt was twice the size\n",
    "delta_population = model_growth(starting_population, parameters) * 2*dt\n",
    "population = starting_population + delta_population\n",
    "print('New population after one larger step:', population)"
   ]
  },
  {
   "cell_type": "markdown",
   "metadata": {},
   "source": [
    "The difference is basically negligible, but one can imagine that if we repeated the same experiment for 10 steps vs 10 times the step-size, it would become higher.  \n",
    "\n",
    "Since this is a relatively simple system, we actually know what the \"perfect\" solution is by solving the equation of the model. At time 2dt the population will be:\n",
    "*508191116 * exp(0.0035 * 2dt)*\n",
    "\n",
    "So let's compute this to see which of the above two numbers is closest and how different they are. The original blogpost tells more about the correctness of the simulation."
   ]
  },
  {
   "cell_type": "code",
   "execution_count": 65,
   "metadata": {},
   "outputs": [
    {
     "name": "stdout",
     "output_type": "stream",
     "text": [
      "508226690.6232172\n"
     ]
    }
   ],
   "source": [
    "population_t = starting_population * exp(parameters[0]*2*dt)\n",
    "print(population_t)"
   ]
  },
  {
   "cell_type": "markdown",
   "metadata": {},
   "source": [
    "### Now, let's run this for many steps"
   ]
  },
  {
   "cell_type": "code",
   "execution_count": 72,
   "metadata": {},
   "outputs": [],
   "source": [
    "# Define the starting point (typically time=0) and parameters\n",
    "t = 0\n",
    "starting_population = 508191116\n",
    "\n",
    "parameters = [0.0035]\n",
    "dt = 0.01 # simulation parameter of how big time-steps we are taking\n",
    "tMax = 5 # maximum time until which we want to simulate"
   ]
  },
  {
   "cell_type": "code",
   "execution_count": 73,
   "metadata": {},
   "outputs": [],
   "source": [
    "time = np.arange(t, tMax, dt) # all the time-values we are evaluating, from 0 to tMax, by steps of dt\n",
    "population = starting_population\n",
    "pop_over_time = np.array(population) # we will store the population number at each time-step in here\n",
    "\n",
    "for i in range(len(time)-1):\n",
    "    delta_population = model_growth(population, parameters) * dt\n",
    "    population = population + delta_population\n",
    "    pop_over_time = np.vstack((pop_over_time, population)) # with this step, we store the updated population"
   ]
  },
  {
   "cell_type": "code",
   "execution_count": 74,
   "metadata": {},
   "outputs": [
    {
     "data": {
      "text/plain": [
       "[<matplotlib.lines.Line2D at 0x11e5196d0>]"
      ]
     },
     "execution_count": 74,
     "metadata": {},
     "output_type": "execute_result"
    },
    {
     "data": {
      "image/png": "[encoded data removed]",
      "text/plain": [
       "<Figure size 432x288 with 1 Axes>"
      ]
     },
     "metadata": {
      "needs_background": "light"
     },
     "output_type": "display_data"
    }
   ],
   "source": [
    "# Plot the population size over time: time is on the x axis and number of individual is on the y\n",
    "plt.plot(time, pop_over_time)\n"
   ]
  },
  {
   "cell_type": "markdown",
   "metadata": {},
   "source": [
    "So in this case we get a steady linear increase in the number of individuals.\n",
    "- What happens if we look at a longer time-frame, does the trend stay the same?\n",
    "- What if the net birth rate is different? What if it is negative? Or >1 ?"
   ]
  }
 ],
 "metadata": {
  "kernelspec": {
   "display_name": "Python 3 (ipykernel)",
   "language": "python",
   "name": "python3"
  },
  "language_info": {
   "codemirror_mode": {
    "name": "ipython",
    "version": 3
   },
   "file_extension": ".py",
   "mimetype": "text/x-python",
   "name": "python",
   "nbconvert_exporter": "python",
   "pygments_lexer": "ipython3",
   "version": "3.8.9"
  }
 },
 "nbformat": 4,
 "nbformat_minor": 2
}

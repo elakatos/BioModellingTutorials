{
 "cells": [
  {
   "cell_type": "code",
   "execution_count": 93,
   "id": "82c18c1d",
   "metadata": {},
   "outputs": [],
   "source": [
    "import copy\n",
    "import random as rnd\n",
    "import math\n",
    "import numpy as np\n",
    "import matplotlib.pyplot as plt\n",
    "plt.style.use('seaborn-poster')\n",
    "plt.rcParams['figure.figsize'] = [10, 5] # this makes a nicer figure size, you can play around with the numbers"
   ]
  },
  {
   "cell_type": "markdown",
   "id": "4d0fd4f5",
   "metadata": {},
   "source": [
    "# A model of immune and cancer cell populations\n",
    "\n",
    "We have three types of cells that we want to model\n",
    "- Type 1 T-cells, which can recognise cancer cells, and start an immune reaction and kill cancer cells\n",
    "- Type 2 T-cells, which cannot recognise cancer cells\n",
    "- Cancer cells\n",
    "\n",
    "\n",
    "The interactions between them\n",
    "- A T-cell (type 1 or type 2) divides to make one extra cell of the same type\n",
    "- A T-cell (type 1 or type 2) dies\n",
    "- A cancer cell divides to make one extra cancer cell\n",
    "- A T-cell (of type 1) kills a cancer cell\n",
    "\n",
    "Therefore we have four parameters\n",
    "- Division rate of T-cells (we assume it is the same for type 1 and 2)\n",
    "- Death rate of T-cells (same for type 1 and 2)\n",
    "- Division rate of cancer cells\n",
    "- Rate of cancer cell killing by type 1 T-cells"
   ]
  },
  {
   "cell_type": "code",
   "execution_count": 176,
   "id": "6db4ade9",
   "metadata": {},
   "outputs": [],
   "source": [
    "def model_cancerTcell(pop, params):\n",
    "    dT1 = params[0]*pop[0] - params[1]*pop[0] # type 1 T-cell divides minus it dies\n",
    "    dT2 = params[0]*pop[1] - params[1]*pop[1] # type 2 T-cell divides minus it dies\n",
    "    dC = params[2]*pop[2] - params[3]*pop[0]*pop[2] # cancer cell divides or gets killed by T-cell\n",
    "    return(np.array([dT1, dT2, dC]))"
   ]
  },
  {
   "cell_type": "markdown",
   "id": "10173045",
   "metadata": {},
   "source": [
    "## Simulating the model numerically\n",
    "\n",
    "We will use numerical simulation to estimate how the population of each of the cell types changes over time. We will use the simplest method of solving differential equations, where we always take steps of **dt** time ahead and constantly update the population.\n",
    "\n",
    "### First, take a few simulation steps separately"
   ]
  },
  {
   "cell_type": "code",
   "execution_count": 177,
   "id": "14a92843",
   "metadata": {},
   "outputs": [],
   "source": [
    "# Define the starting point (typically time=0) and parameters\n",
    "t = 0\n",
    "starting_population = np.array([100, 100, 20])\n",
    "\n",
    "parameters = [0.5, 0.45, 1, 0.1]\n",
    "dt = 0.01 # simulation parameter of how big time-steps we are taking"
   ]
  },
  {
   "cell_type": "code",
   "execution_count": 178,
   "id": "9fbec22d",
   "metadata": {},
   "outputs": [
    {
     "name": "stdout",
     "output_type": "stream",
     "text": [
      "Change in population after dt: [ 0.05  0.05 -1.8 ]\n",
      "New numbers of cells of each type: [100.05 100.05  18.2 ]\n"
     ]
    }
   ],
   "source": [
    "# First, take a single step of the simulation: compute the change in cell numbers in dt and update the population\n",
    "\n",
    "delta_population = model_cancerTcell(starting_population, parameters) * dt\n",
    "print('Change in population after dt:',delta_population)\n",
    "population = starting_population + delta_population\n",
    "print('New numbers of cells of each type:', population)"
   ]
  },
  {
   "cell_type": "code",
   "execution_count": 179,
   "id": "0c09c5a2",
   "metadata": {},
   "outputs": [
    {
     "name": "stdout",
     "output_type": "stream",
     "text": [
      "New population after two steps: [100.100025 100.100025  16.56109 ]\n"
     ]
    }
   ],
   "source": [
    "# Now, let's take two steps, note that in the second step, we use the previously updated population values\n",
    "delta_population = model_cancerTcell(starting_population, parameters) * dt\n",
    "next_population = starting_population + delta_population\n",
    "\n",
    "delta_population = model_cancerTcell(next_population, parameters) * dt\n",
    "population = next_population + delta_population\n",
    "print('New population after two steps:', population)\n"
   ]
  },
  {
   "cell_type": "code",
   "execution_count": 180,
   "id": "cba5326c",
   "metadata": {},
   "outputs": [
    {
     "name": "stdout",
     "output_type": "stream",
     "text": [
      "New population after one larger step: [100.1 100.1  16.4]\n"
     ]
    }
   ],
   "source": [
    "# We can compare this to taking \"two steps in one\", as if dt was twice the size\n",
    "delta_population = model_cancerTcell(starting_population, parameters) * 2*dt\n",
    "population = starting_population + delta_population\n",
    "print('New population after one larger step:', population)"
   ]
  },
  {
   "cell_type": "markdown",
   "id": "2de38b86",
   "metadata": {},
   "source": [
    "The difference is not huge, but there is some - the version with the smaller time-step is closer to the real solution that we expect to see."
   ]
  },
  {
   "cell_type": "markdown",
   "id": "b53671a7",
   "metadata": {},
   "source": [
    "### Now, let's run this for many steps"
   ]
  },
  {
   "cell_type": "code",
   "execution_count": 246,
   "id": "a3430d4e",
   "metadata": {},
   "outputs": [],
   "source": [
    "# Define the starting point (typically time=0) and parameters\n",
    "t = 0\n",
    "starting_population = np.array([100, 100, 20])\n",
    "\n",
    "parameters = [0.5, 0.5, 2, 0.01]\n",
    "dt = 0.01 # simulation parameter of how big time-steps we are taking\n",
    "tMax = 2 # maximum time until which we want to simulate"
   ]
  },
  {
   "cell_type": "code",
   "execution_count": 247,
   "id": "c5a7b4d2",
   "metadata": {},
   "outputs": [],
   "source": [
    "time = np.arange(t, tMax, dt) # all the time-values we are evaluating, from 0 to tMax, by steps of dt\n",
    "population = starting_population\n",
    "pop_over_time = np.array(population)\n",
    "\n",
    "for i in range(len(time)-1):\n",
    "    delta_population = model_cancerTcell(population, parameters) * dt\n",
    "    population = population + delta_population\n",
    "    pop_over_time = np.vstack((pop_over_time, population))"
   ]
  },
  {
   "cell_type": "code",
   "execution_count": 248,
   "id": "554716a0",
   "metadata": {},
   "outputs": [
    {
     "name": "stdout",
     "output_type": "stream",
     "text": [
      "Number of cells at time  2  is: [100.         100.         144.87164063]\n"
     ]
    },
    {
     "data": {
      "image/png": "[encoded data removed]",
      "text/plain": [
       "<Figure size 720x360 with 1 Axes>"
      ]
     },
     "metadata": {
      "needs_background": "light"
     },
     "output_type": "display_data"
    }
   ],
   "source": [
    "# Plot the number of cells in each cell type over time: time is on the x axis and number of cells is on the y\n",
    "plt.plot(time, pop_over_time)\n",
    "\n",
    "# And print the number of each cell type at the final time-point\n",
    "print('Number of cells at time ',tMax, ' is:', pop_over_time[-1,:])"
   ]
  },
  {
   "cell_type": "markdown",
   "id": "7a140045",
   "metadata": {},
   "source": [
    "There seems to be only two lines... That is because type 1 and type 2 T-cells have the exact same numbers throughout the simulation, so their lines overlap. If we change the initial number of cells for one of these (in starting_population), there will be three distinct lines.\n",
    "\n",
    "- How does the result change with **dt**? The lines might look similar, but are the final values the same?\n",
    "- How does it change if we change parameters? For example the rate of cancer cell divisions or the rate of T-cell division or killing?"
   ]
  },
  {
   "cell_type": "markdown",
   "id": "3a41ac4d",
   "metadata": {},
   "source": [
    "# Update to the model\n",
    "\n",
    "In an update to the model, let's include a further interaction: T-cells that recognise cancer cells (type 1 T-cells) divide more if they are in the presence of cancer cells\n",
    "- The rate of division of type 1 T-cells depends not only on the population of T-cells (pop0) but, also on the population of cancer cells (pop2)\n",
    "- This updated reaction now has a new parameter, which is *not* the same as the parameter for type 2 T-cell division - this distinguishes type 1 and type 2 T-cells\n",
    "- Overall now we have 5 parameters: type 1 T-cell division rate induced by cancer cells, type 2 T-cell division rate, T-cell death rate (still shared by both T-cells), cancer cell division rate and cancer cell killing rate"
   ]
  },
  {
   "cell_type": "code",
   "execution_count": 208,
   "id": "65ec4b82",
   "metadata": {},
   "outputs": [],
   "source": [
    "def model_cancerTcell_plusInduction(pop, params):\n",
    "    # Fill in the gaps to define the model\n",
    "    dT1 = #... : # type 1 T-cell divides (induced by cancer cells) minus it dies\n",
    "    dT2 = #... : # type 2 T-cell divides minus it dies\n",
    "    dC =  #... : # cancer cell divides or gets killed by T-cell\n",
    "    return(np.array([dT1, dT2, dC]))"
   ]
  },
  {
   "cell_type": "markdown",
   "id": "7a726440",
   "metadata": {},
   "source": [
    "Once the model is defined, let's choose some starting values and parameter values (similar to the previous model) and simulate the model similarly to how we did with the previous version"
   ]
  },
  {
   "cell_type": "code",
   "execution_count": 261,
   "id": "c5dd9931",
   "metadata": {},
   "outputs": [],
   "source": [
    "t = 0\n",
    "starting_population = np.array([100, 100, 50])\n",
    "\n",
    "parameters = [0.005, 0.5, 0.5, 2, 0.01] # the first parameter is the induction of T-cell division by cancer cells\n",
    "dt = 0.01 # simulation parameter of how big time-steps we are taking\n",
    "tMax = 2 # maximum time until which we want to simulate"
   ]
  },
  {
   "cell_type": "code",
   "execution_count": 262,
   "id": "40d9dd77",
   "metadata": {},
   "outputs": [],
   "source": [
    "# Write here the code for simulating the model (very similar to what we used above)"
   ]
  },
  {
   "cell_type": "code",
   "execution_count": 263,
   "id": "368a0c1d",
   "metadata": {},
   "outputs": [
    {
     "name": "stdout",
     "output_type": "stream",
     "text": [
      "Number of cells at time  2  is: [179.37453348 100.         309.00302812]\n"
     ]
    },
    {
     "data": {
      "image/png": "[encoded data removed]",
      "text/plain": [
       "<Figure size 720x360 with 1 Axes>"
      ]
     },
     "metadata": {
      "needs_background": "light"
     },
     "output_type": "display_data"
    }
   ],
   "source": [
    "# Plot the number of cells in each cell type over time: time is on the x axis and number of cells is on the y\n",
    "plt.plot(time, pop_over_time)\n",
    "\n",
    "# And print the number of each cell type at the final time-point\n",
    "print('Number of cells at time ',tMax, ' is:', pop_over_time[-1,:])"
   ]
  },
  {
   "cell_type": "markdown",
   "id": "0a0cf420",
   "metadata": {},
   "source": [
    "- There seems to be a change in the curves around the end, so how does it look if we simulate for longer?\n",
    "- How does it change if we change parameters, especially the one defining how T-cells kill cancer cells?"
   ]
  },
  {
   "cell_type": "code",
   "execution_count": null,
   "id": "baee4e66",
   "metadata": {},
   "outputs": [],
   "source": []
  }
 ],
 "metadata": {
  "kernelspec": {
   "display_name": "Python 3 (ipykernel)",
   "language": "python",
   "name": "python3"
  },
  "language_info": {
   "codemirror_mode": {
    "name": "ipython",
    "version": 3
   },
   "file_extension": ".py",
   "mimetype": "text/x-python",
   "name": "python",
   "nbconvert_exporter": "python",
   "pygments_lexer": "ipython3",
   "version": "3.8.9"
  }
 },
 "nbformat": 4,
 "nbformat_minor": 5
}

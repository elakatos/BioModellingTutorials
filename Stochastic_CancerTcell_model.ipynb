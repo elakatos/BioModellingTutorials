{
 "cells": [
  {
   "cell_type": "code",
   "execution_count": 1,
   "metadata": {},
   "outputs": [],
   "source": [
    "import copy\n",
    "import random as rnd\n",
    "import math\n",
    "import numpy as np\n",
    "import matplotlib.pyplot as plt"
   ]
  },
  {
   "cell_type": "markdown",
   "metadata": {},
   "source": [
    "# A simulation of immune and cancer cell populations\n",
    "\n",
    "We have three types of cells that we want to track in the simulation:\n",
    "- Type 1 T-cells, which can recognise cancer cells, and start an immune reaction and kill cancer cells\n",
    "- Type 2 T-cells, which cannot recognise cancer cells\n",
    "- Cancer cells\n",
    "\n",
    "\n",
    "The reactions that could happen in each time-step:\n",
    "- A T-cell (type 1 or type 2) divides to make one extra cell of the same type\n",
    "- A T-cell (type 1 or type 2) dies/exits the area we are interested in\n",
    "- A cancer cell divides to make one extra cancer cell\n",
    "- A T-cell (of type 1) kills a cancer cell"
   ]
  },
  {
   "cell_type": "code",
   "execution_count": 2,
   "metadata": {},
   "outputs": [],
   "source": [
    "# Mathematically, the different reactions are captured by reaction rates or reaction propensities\n",
    "# This function defines the \"probability\" of each reaction occurring, given the number of each cell type and reaction parameters\n",
    "def reaction_propensities(pop, params):\n",
    "    r0 = params[0]*pop[0] # type 1 T-cell divides\n",
    "    r1 = params[0]*pop[1] # type 2 T-cell divides\n",
    "    r2 = params[1]*pop[0] # type 1 T-cell dies/leaves\n",
    "    r3 = params[1]*pop[1] # type 2 T-cell dies/leaves\n",
    "    r4 = params[2]*pop[2] # cancer cell divides\n",
    "    r5 = params[3]*pop[2]*pop[0] # T-cell kills cancer cell\n",
    "    \n",
    "    return([r0,r1,r2,r3,r4,r5])"
   ]
  },
  {
   "cell_type": "markdown",
   "metadata": {},
   "source": [
    "## Let's first do a single simulation step\n"
   ]
  },
  {
   "cell_type": "code",
   "execution_count": 3,
   "metadata": {},
   "outputs": [],
   "source": [
    "# Define the number of cells we are starting with and some parameters for the reactions\n",
    "starting_population = np.array([100, 100, 20]) # number of type1 T, type2 T, cancer cells\n",
    "parameters = [0.5, 0.5, 3.0, 0.1] #T-cell division rate, T-cell death rate, cancer cell division rate, T-cell killing rate"
   ]
  },
  {
   "cell_type": "markdown",
   "metadata": {},
   "source": [
    "We want to have exactly one reaction happening in each simulation step.\n",
    "\n",
    "First, we compute the \"probability\" of each reaction happening right now. E.g. cancer cell killing (last in the list) is 4x more likely than T-cell division (first in the list)\n",
    "\n",
    "Then, we define how much time passed until this one reaction occurred - this is how much the time changes in this one simulation step. It is not constant (e.g. 1), it depends on the summed \"probability\" of all the reactions: the higher the sum, the smaller time it will take for something to happen."
   ]
  },
  {
   "cell_type": "code",
   "execution_count": 4,
   "metadata": {},
   "outputs": [
    {
     "name": "stdout",
     "output_type": "stream",
     "text": [
      "Reaction propensities: [50.0, 50.0, 50.0, 50.0, 60.0, 200.0]\n",
      "Time elapsed until next reaction: 0.0006467294664021673\n"
     ]
    }
   ],
   "source": [
    "reactions_now = reaction_propensities(starting_population, parameters)\n",
    "print('Reaction propensities:',reactions_now)\n",
    "reactions_total = sum(reactions_now)\n",
    "\n",
    "dtime = rnd.expovariate(reactions_total) # this is the standard formula for computing the time, you can just use this all the time\n",
    "print('Time elapsed until next reaction:',dtime)"
   ]
  },
  {
   "cell_type": "markdown",
   "metadata": {},
   "source": [
    "Then, we need to decide which reaction should occur, in a random manner that reflects these probabilities. Luckily, python has a function in the random module, called \"choices\" that can do just that for us: pick randomly which reaction occurs next, taking into account that these reactions have different \"weights\"."
   ]
  },
  {
   "cell_type": "code",
   "execution_count": 5,
   "metadata": {},
   "outputs": [
    {
     "name": "stdout",
     "output_type": "stream",
     "text": [
      "2\n"
     ]
    }
   ],
   "source": [
    "rReact = rnd.choices(range(len(reactions_now)), weights=reactions_now)[0] # we pick the index of the reaction to occur\n",
    "print(rReact)"
   ]
  },
  {
   "cell_type": "markdown",
   "metadata": {},
   "source": [
    "We have two ways of computing which reaction this indicates and how the cell populations change:\n",
    "- we can go through the number line reaction-by-reaction, and write a rule of what happens if that reaction is selected"
   ]
  },
  {
   "cell_type": "code",
   "execution_count": 6,
   "metadata": {},
   "outputs": [
    {
     "name": "stdout",
     "output_type": "stream",
     "text": [
      "Population before:  [100 100  20]\n",
      "Population after:  [ 99 100  20]\n"
     ]
    }
   ],
   "source": [
    "population = copy.copy(starting_population) # start from a copy of the starting cell numbers that we defined above\n",
    "\n",
    "print('Population before: ', population)\n",
    "\n",
    "if rReact==0: # first reaction means type 1 T-cell division\n",
    "    population[0] = population[0] + 1 # the number of type1 T-cells increases by 1\n",
    "    \n",
    "if rReact==1: # second reaction, so type 2 T-cell division\n",
    "    population[1] = population[1] + 1 # the number of type2 T-cells increases by 1\n",
    "    \n",
    "if rReact==2: # third reaction\n",
    "    population[0] = population[0] - 1 # the number of type1 T-cells decreases by 1\n",
    "    \n",
    "if rReact==3:\n",
    "    population[1] = population[1] - 1 # the number of type2 T-cells decreases by 1\n",
    "    \n",
    "if rReact==4:\n",
    "    population[2] = population[2] + 1 # the number of cancer cells increases by 1\n",
    "\n",
    "if rReact==5: #this is the last interval, corresponding to T-cell killing\n",
    "    population[2] = population[2] - 1 # the number of cancer cells decreases by 1 due to T-cell killing them\n",
    "    \n",
    "print('Population after: ', population)\n"
   ]
  },
  {
   "cell_type": "markdown",
   "metadata": {},
   "source": [
    "- We can make a faster way that is more flexible (and needs less typing) using some maths tricks:\n",
    "    - we also make a matrix that defines for each reaction and each cell type, how much that cell-type changes in that reaction. E.g. second reaction (type2 T-cell division) means: +0 type1, +1 type2, +0 cancer cells"
   ]
  },
  {
   "cell_type": "code",
   "execution_count": 7,
   "metadata": {},
   "outputs": [],
   "source": [
    "changes_per_reaction = np.array([[1, 0, 0], # first reaction: +1 type1, +0 type2, +0 cancer cells\n",
    "                                 [0, 1, 0], # second reaction: +0 type1, +1 type2, +0 cancer cells\n",
    "                                 [-1, 0, 0],\n",
    "                                 [0, -1, 0],\n",
    "                                 [0, 0, 1],\n",
    "                                 [0, 0, -1]]) # last reaction: +0 type1, +0 type2, -1 cancer cells "
   ]
  },
  {
   "cell_type": "code",
   "execution_count": 8,
   "metadata": {},
   "outputs": [
    {
     "name": "stdout",
     "output_type": "stream",
     "text": [
      "Population before:  [100 100  20]\n",
      "Population after:  [ 99 100  20]\n",
      "This should be the same as above!\n"
     ]
    }
   ],
   "source": [
    "population = copy.copy(starting_population) # start from a copy of the starting cell numbers that we defined above\n",
    "\n",
    "print('Population before: ', population)\n",
    "\n",
    "# we can change the numbers of cell populations using the row of changes_per_reaction that rReact selects for us\n",
    "population = population + changes_per_reaction[rReact,:]\n",
    "\n",
    "print('Population after: ', population)\n",
    "print('This should be the same as above!')"
   ]
  },
  {
   "cell_type": "markdown",
   "metadata": {},
   "source": [
    "## Now let's put it all together and make a simulation from top\n",
    "\n",
    "We'll start with defining the model e.g. what kind of cells are in it and what reactions happen in it\n",
    "- This is something that we think is general about the system, it should be the same for all people/tumours/etc.\n",
    "\n",
    "Then we define the starting values and parameters\n",
    "- This is something that could be different between people/tumours or experiments\n",
    "- We can make simulated experiments where we change these values. E.g. changing the last parameter would correspond to \"T-cells becoming more active against cancer\"; changing tMax represents running a longer simulation/experiment\n",
    "\n",
    "Then we run the simulation\n",
    "- This takes the values we just defined, so nothing has to be re-written in it, we can simply re-run if we change e.g. the parameters\n",
    "\n",
    "Then we have a complete simulation run, which we can analyse, for example by plotting how the different cell types gained new cells or lost cells over time"
   ]
  },
  {
   "cell_type": "code",
   "execution_count": 9,
   "metadata": {},
   "outputs": [],
   "source": [
    "# Define the reaction propensity function and change matrix that describes the reactions that can occur\n",
    "\n",
    "def reaction_propensities(pop, params):\n",
    "    r0 = params[0]*pop[0] # type 1 T-cell divides\n",
    "    r1 = params[0]*pop[1] # type 2 T-cell divides\n",
    "    r2 = params[1]*pop[0] # type 1 T-cell dies/leaves\n",
    "    r3 = params[1]*pop[1] # type 2 T-cell dies/leaves\n",
    "    r4 = params[2]*pop[2] # cancer cell divides\n",
    "    r5 = params[3]*pop[2]*pop[0] # T-cell kills cancer cell\n",
    "    \n",
    "    return([r0,r1,r2,r3,r4,r5])\n",
    "\n",
    "changes_per_reaction = np.array([[1, 0, 0], # first reaction: +1 type1, +0 type2, +0 cancer cells\n",
    "                                 [0, 1, 0], # second reaction: +0 type1, +1 type2, +0 cancer cells\n",
    "                                 [-1, 0, 0],\n",
    "                                 [0, -1, 0],\n",
    "                                 [0, 0, 1],\n",
    "                                 [0, 0, -1]]) # last reaction: +0 type1, +0 type2, -1 cancer cells "
   ]
  },
  {
   "cell_type": "code",
   "execution_count": 24,
   "metadata": {},
   "outputs": [],
   "source": [
    "# Define the starting numbers of cells and parameters about the reactions\n",
    "\n",
    "starting_population = np.array([100, 100, 20]) # number of type1 T, type2 T, cancer cells\n",
    "t = 0.0 # starting time\n",
    "parameters = [0.5, 0.5, 2.0, 0.01] #T-cell division rate, T-cell death rate, cancer cell division rate, T-cell killing rate\n",
    "tMax = 2.0 # the end point until which we want to simulate, e.g. the final time"
   ]
  },
  {
   "cell_type": "code",
   "execution_count": 25,
   "metadata": {},
   "outputs": [],
   "source": [
    "# Make a loop that does the single simulation step until we reach the end point\n",
    "# We'll use the second method because it is more concise\n",
    "\n",
    "result_model = []\n",
    "\n",
    "for i in range(5):\n",
    "    population = starting_population\n",
    "    pop_over_time = np.array(population) # store the population values over time in this\n",
    "    t = 0.0\n",
    "    time = np.array(t)\n",
    "\n",
    "    while t < tMax:\n",
    "        reactions_now = reaction_propensities(population, parameters) # compute reaction probabilities: this changes as population changes\n",
    "        reactions_total = sum(reactions_now)\n",
    "\n",
    "        dtime = rnd.expovariate(reactions_total) # get how much time until next reaction\n",
    "        rReact = rnd.choices(range(len(reactions_now)), weights=reactions_now)[0] # get which reaction happens\n",
    "        population = population + changes_per_reaction[rReact,:] # change population accordingly\n",
    "    \n",
    "        t = t + dtime\n",
    "        time = np.append(time, t) # note down the new time\n",
    "        pop_over_time = np.vstack((pop_over_time, population)) # this is the equivalent of append, but adds a new row\n",
    "        \n",
    "    result_model.append(pop_over_time[-1,2])"
   ]
  },
  {
   "cell_type": "code",
   "execution_count": 26,
   "metadata": {},
   "outputs": [
    {
     "data": {
      "image/png": "[encoded data removed]",
      "text/plain": [
       "<Figure size 432x288 with 1 Axes>"
      ]
     },
     "metadata": {
      "needs_background": "light"
     },
     "output_type": "display_data"
    },
    {
     "data": {
      "image/png": "[encoded data removed]",
      "text/plain": [
       "<Figure size 432x288 with 1 Axes>"
      ]
     },
     "metadata": {
      "needs_background": "light"
     },
     "output_type": "display_data"
    }
   ],
   "source": [
    "# We can simply plot all three cell types\n",
    "plt.step(time, pop_over_time)\n",
    "plt.show()\n",
    "\n",
    "# Or we can get just one of them by selecting which column of pop_over_time, using [:,x] for column x\n",
    "plt.step(time, pop_over_time[:,1]) # look at the first cell type: type1 T-cell separately\n",
    "plt.show()"
   ]
  },
  {
   "cell_type": "code",
   "execution_count": null,
   "metadata": {},
   "outputs": [],
   "source": []
  }
 ],
 "metadata": {
  "kernelspec": {
   "display_name": "Python 3 (ipykernel)",
   "language": "python",
   "name": "python3"
  },
  "language_info": {
   "codemirror_mode": {
    "name": "ipython",
    "version": 3
   },
   "file_extension": ".py",
   "mimetype": "text/x-python",
   "name": "python",
   "nbconvert_exporter": "python",
   "pygments_lexer": "ipython3",
   "version": "3.8.9"
  }
 },
 "nbformat": 4,
 "nbformat_minor": 2
}
